{
  "cells": [
    {
      "cell_type": "code",
      "metadata": {
        "collapsed": true
      },
      "outputs": [],
      "source": []
    },
    {
      "cell_type": "markdown",
      "metadata": {},
      "source": [
        "## Init"
      ]
    },
    {
      "cell_type": "code",
      "metadata": {
        "collapsed": true
      },
      "outputs": [],
      "source": [
        "import datetime\n",
        "import glob\n",
        "import os\n",
        "import pandas as pd\n",
        "import seaborn\n",
        "import subprocess\n",
        "\n",
        "PCAP_DIR = \"../cap/\""
      ]
    },
    {
      "cell_type": "code",
      "metadata": {},
      "outputs": [],
      "source": [
        "%pylab inline"
      ]
    },
    {
      "cell_type": "code",
      "metadata": {
        "collapsed": true
      },
      "outputs": [],
      "source": [
        "def read_pcap(filename, fields=[], display_filter=\"\", \n",
        "              timeseries=False, strict=False):\n",
        "    \"\"\" Read PCAP file into Pandas DataFrame object. \n",
        "    Uses tshark command-line tool from Wireshark.\n",
        "\n",
        "    filename:       Name or full path of the PCAP file to read\n",
        "    fields:         List of fields to include as columns\n",
        "    display_filter: Additional filter to restrict frames\n",
        "    strict:         Only include frames that contain all given fields \n",
        "                    (Default: false)\n",
        "    timeseries:     Create DatetimeIndex from frame.time_epoch \n",
        "                    (Default: false)\n",
        "\n",
        "    Syntax for fields and display_filter is specified in\n",
        "    Wireshark's Display Filter Reference:\n",
        " \n",
        "      http://www.wireshark.org/docs/dfref/\n",
        "    \"\"\"\n",
        "    if timeseries:\n",
        "        fields = [\"frame.time_epoch\"] + fields\n",
        "    fieldspec = \" \".join(\"-e %s\" % f for f in fields)\n",
        "\n",
        "    display_filters = fields if strict else []\n",
        "    if display_filter:\n",
        "        display_filters.append(display_filter)\n",
        "    filterspec = \"-Y '%s'\" % \" and \".join(f for f in display_filters)\n",
        "\n",
        "    options = \"-r %s -n -T fields -Eheader=y\" % filename\n",
        "    cmd = \"tshark %s %s %s\" % (options, filterspec, fieldspec)\n",
        "    proc = subprocess.Popen(cmd, shell = True, \n",
        "                                 stdout=subprocess.PIPE,\n",
        "                                 stderr=subprocess.PIPE)\n",
        "    if timeseries:\n",
        "        df = pd.read_table(proc.stdout, \n",
        "                        index_col = \"frame.time_epoch\", \n",
        "                        parse_dates=True, \n",
        "                        date_parser=datetime.datetime.fromtimestamp)\n",
        "    else:\n",
        "        df = pd.read_table(proc.stdout)\n",
        "    return df"
      ]
    },
    {
      "cell_type": "code",
      "metadata": {
        "collapsed": true
      },
      "outputs": [],
      "source": [
        "def path_to_filename(path):\n",
        "    name = os.path.basename(path)\n",
        "    return os.path.splitext(name)[0]"
      ]
    },
    {
      "cell_type": "code",
      "metadata": {
        "collapsed": true
      },
      "outputs": [],
      "source": [
        "def load_all(fields=[], display_filter=\"\", \n",
        "              timeseries=False, strict=False):\n",
        "    files = glob.iglob(PCAP_DIR+\"*.pcap\")\n",
        "    return {path_to_filename(file): read_pcap(file, fields, display_filter, timeseries, strict)\n",
        "            for file in files}"
      ]
    },
    {
      "cell_type": "markdown",
      "metadata": {},
      "source": [
        "## Cargar los PCAPs"
      ]
    },
    {
      "cell_type": "code",
      "metadata": {
        "collapsed": true
      },
      "outputs": [],
      "source": [
        "tables = load_all([\"tcp.stream\", \"ip.src\", \"ip.dst\", \"tcp.seq\", \"tcp.ack\", \"tcp.window_size\", \"tcp.len\"])"
      ]
    },
    {
      "cell_type": "code",
      "metadata": {},
      "outputs": [],
      "source": [
        "print(list(tables.keys()))"
      ]
    },
    {
      "cell_type": "code",
      "metadata": {},
      "outputs": [],
      "source": [
        "print(tables[\"EXACTAS-UBA\"])"
      ]
    }
  ],
  "metadata": {
    "kernelspec": {
      "display_name": "Python 3",
      "language": "python",
      "name": "python3"
    },
    "language_info": {
      "codemirror_mode": {
        "name": "ipython",
        "version": 3
      },
      "file_extension": ".py",
      "mimetype": "text/x-python",
      "name": "python",
      "nbconvert_exporter": "python",
      "pygments_lexer": "ipython3",
      "version": "3.6.0"
    }
  },
  "nbformat": 4,
  "nbformat_minor": 2
}