{
  "cells": [
    {
      "cell_type": "markdown",
      "metadata": {},
      "source": [
        "# Analysing network traffic with Pandas"
      ]
    },
    {
      "cell_type": "markdown",
      "metadata": {},
      "source": [
        "Dirk Loss, http://dirk-loss.de, @dloss. \n",
        "v1.1, 2013-06-02"
      ]
    },
    {
      "cell_type": "markdown",
      "metadata": {},
      "source": [
        "This IPython notebook shows how to analyse network traffic using the following tools:\n",
        "    \n",
        "* **Pandas**, a Python library for analysing data <http://pandas.pydata.org/>\n",
        "* **tshark**, the command line version of the Wireshark sniffer <http://http://www.wireshark.org/>\n",
        "* **Matplotlib**, a Python plotting library <http://matplotlib.org/>"
      ]
    },
    {
      "cell_type": "markdown",
      "metadata": {},
      "source": [
        "Pandas allows for very flexible analysis, treating your PCAP files as a timeseries of packet data. \n",
        "\n",
        "So if the statistics provided by Wireshark are not enough, you might want to try this. And it's more fun, of course. :) "
      ]
    },
    {
      "cell_type": "markdown",
      "metadata": {},
      "source": [
        "## Get a PCAP file"
      ]
    },
    {
      "cell_type": "markdown",
      "metadata": {},
      "source": [
        "First we need a PCAP file. I chose a sample file from the Digital Corpora site that has been used for courses in network forensics:"
      ]
    },
    {
      "cell_type": "code",
      "metadata": {},
      "outputs": [],
      "source": [
        "from IPython.display import HTML\n",
        "HTML('<iframe src=http://digitalcorpora.org/corpora/scenarios/nitroba-university-harassment-scenario width=600 height=300></iframe>')"
      ]
    },
    {
      "cell_type": "code",
      "metadata": {},
      "outputs": [],
      "source": [
        "!mkdir -p pcap"
      ]
    },
    {
      "cell_type": "code",
      "metadata": {},
      "outputs": [],
      "source": [
        "cd pcap"
      ]
    },
    {
      "cell_type": "markdown",
      "metadata": {},
      "source": [
        "We can download it using curl or pure Python. Just uncomment one of the following cells:"
      ]
    },
    {
      "cell_type": "code",
      "metadata": {},
      "outputs": [],
      "source": [
        "url=\"http://digitalcorpora.org/corp/nps/packets/2008-nitroba/nitroba.pcap\""
      ]
    },
    {
      "cell_type": "code",
      "metadata": {},
      "outputs": [],
      "source": [
        "# If you have curl installed, we can get nice progress bars:\n",
        "#!curl -o nitroba.pcap $url"
      ]
    },
    {
      "cell_type": "code",
      "metadata": {},
      "outputs": [],
      "source": [
        "# Or use pure Python:\n",
        "# import urllib\n",
        "# urllib.urlretrieve(url, \"nitroba.pcap\")"
      ]
    },
    {
      "cell_type": "code",
      "metadata": {},
      "outputs": [],
      "source": [
        "ls -l nitroba.pcap"
      ]
    },
    {
      "cell_type": "code",
      "metadata": {},
      "outputs": [],
      "source": [
        "!md5sum nitroba.pcap"
      ]
    },
    {
      "cell_type": "markdown",
      "metadata": {},
      "source": [
        "## Convert PCAP to a CSV using tshark"
      ]
    },
    {
      "cell_type": "markdown",
      "metadata": {},
      "source": [
        "We can use the `tshark` command from the Wireshark tool suite to read the PCAP file and convert it into a tab-separated file. This might not be very fast, but it is very flexible, because all of Wireshark's diplay filters can be used to select the packets that we are interested in."
      ]
    },
    {
      "cell_type": "code",
      "metadata": {},
      "outputs": [],
      "source": [
        "!tshark -v"
      ]
    },
    {
      "cell_type": "markdown",
      "metadata": {},
      "source": [
        "For now, I just select the frame number and the frame length and redirect the output to a file:"
      ]
    },
    {
      "cell_type": "code",
      "metadata": {},
      "outputs": [],
      "source": [
        "!head -10 frame.len"
      ]
    },
    {
      "cell_type": "markdown",
      "metadata": {},
      "source": [
        "Two columns, tab-separaed. (Not exactly CSV, but who cares. ;-)"
      ]
    },
    {
      "cell_type": "markdown",
      "metadata": {},
      "source": [
        "Pandas can read those tables into a DataFrame object:"
      ]
    },
    {
      "cell_type": "code",
      "metadata": {},
      "outputs": [],
      "source": [
        "import pandas as pd"
      ]
    },
    {
      "cell_type": "code",
      "metadata": {},
      "outputs": [],
      "source": [
        "df=pd.read_table(\"frame.len\")"
      ]
    },
    {
      "cell_type": "markdown",
      "metadata": {},
      "source": [
        "The object has a nice default representation that shows the number of values in each row:"
      ]
    },
    {
      "cell_type": "code",
      "metadata": {},
      "outputs": [],
      "source": [
        "df"
      ]
    },
    {
      "cell_type": "markdown",
      "metadata": {},
      "source": [
        "Some statistics about the frame length:"
      ]
    },
    {
      "cell_type": "code",
      "metadata": {},
      "outputs": [],
      "source": [
        "df[\"frame.len\"].describe()"
      ]
    },
    {
      "cell_type": "markdown",
      "metadata": {},
      "source": [
        "The minimum and maximum frame lengths are plausible for an Ethernet connection."
      ]
    },
    {
      "cell_type": "markdown",
      "metadata": {},
      "source": [
        "## Plotting"
      ]
    },
    {
      "cell_type": "markdown",
      "metadata": {},
      "source": [
        "For a better overview, we plot the frame length over time."
      ]
    },
    {
      "cell_type": "markdown",
      "metadata": {},
      "source": [
        "We initialise IPython to show inline graphics:"
      ]
    },
    {
      "cell_type": "code",
      "metadata": {},
      "outputs": [],
      "source": [
        "%pylab inline"
      ]
    },
    {
      "cell_type": "markdown",
      "metadata": {},
      "source": [
        "Set a figure size in inches:"
      ]
    },
    {
      "cell_type": "code",
      "metadata": {},
      "outputs": [],
      "source": [
        "figsize(10,6)"
      ]
    },
    {
      "cell_type": "markdown",
      "metadata": {},
      "source": [
        "Pandas automatically uses Matplotlib for plotting. We plot with small dots and an alpha channel of 0.2:"
      ]
    },
    {
      "cell_type": "code",
      "metadata": {
        "collapsed": true
      },
      "outputs": [],
      "source": [
        "df[\"frame.len\"].plot(style=\".\", alpha=0.2)\n",
        "title(\"Frame length\")\n",
        "ylabel(\"bytes\")\n",
        "xlabel(\"frame number\")"
      ]
    },
    {
      "cell_type": "markdown",
      "metadata": {},
      "source": [
        "So there are always lots of small packets (< 100 bytes) and lots of large packets (> 1400 bytes). Some bursts of packets with other sizes (around 400 bytes, 1000 bytes, etc.) can be clearly seen."
      ]
    },
    {
      "cell_type": "markdown",
      "metadata": {},
      "source": [
        "### A Python function to read PCAP files into Pandas DataFrames"
      ]
    },
    {
      "cell_type": "markdown",
      "metadata": {},
      "source": [
        "Passing all those arguments to tshark is quite cumbersome. Here is a convenience function that reads the given fields into a Pandas DataFrame:"
      ]
    },
    {
      "cell_type": "code",
      "metadata": {},
      "outputs": [],
      "source": [
        "import subprocess\n",
        "import datetime\n",
        "import pandas as pd\n",
        "\n",
        "def read_pcap(filename, fields=[], display_filter=\"\", \n",
        "              timeseries=False, strict=False):\n",
        "    \"\"\" Read PCAP file into Pandas DataFrame object. \n",
        "    Uses tshark command-line tool from Wireshark.\n",
        "\n",
        "    filename:       Name or full path of the PCAP file to read\n",
        "    fields:         List of fields to include as columns\n",
        "    display_filter: Additional filter to restrict frames\n",
        "    strict:         Only include frames that contain all given fields \n",
        "                    (Default: false)\n",
        "    timeseries:     Create DatetimeIndex from frame.time_epoch \n",
        "                    (Default: false)\n",
        "\n",
        "    Syntax for fields and display_filter is specified in\n",
        "    Wireshark's Display Filter Reference:\n",
        " \n",
        "      http://www.wireshark.org/docs/dfref/\n",
        "    \"\"\"\n",
        "    if timeseries:\n",
        "        fields = [\"frame.time_epoch\"] + fields\n",
        "    fieldspec = \" \".join(\"-e %s\" % f for f in fields)\n",
        "\n",
        "    display_filters = fields if strict else []\n",
        "    if display_filter:\n",
        "        display_filters.append(display_filter)\n",
        "    filterspec = \"-R '%s'\" % \" and \".join(f for f in display_filters)\n",
        "\n",
        "    options = \"-r %s -n -T fields -Eheader=y\" % filename\n",
        "    cmd = \"tshark %s %s %s\" % (options, filterspec, fieldspec)\n",
        "    proc = subprocess.Popen(cmd, shell = True, \n",
        "                                 stdout=subprocess.PIPE)\n",
        "    if timeseries:\n",
        "        df = pd.read_table(proc.stdout, \n",
        "                        index_col = \"frame.time_epoch\", \n",
        "                        parse_dates=True, \n",
        "                        date_parser=datetime.datetime.fromtimestamp)\n",
        "    else:\n",
        "        df = pd.read_table(proc.stdout)\n",
        "    return df"
      ]
    },
    {
      "cell_type": "markdown",
      "metadata": {},
      "source": [
        "We will use this function in my further analysis."
      ]
    },
    {
      "cell_type": "markdown",
      "metadata": {},
      "source": [
        "## Bandwidth"
      ]
    },
    {
      "cell_type": "markdown",
      "metadata": {},
      "source": [
        "By summing up the frame lengths we can calculate the complete (Ethernet) bandwidth used.\n",
        "First use our convenience function to read the PCAP into a DataFrame:"
      ]
    },
    {
      "cell_type": "code",
      "metadata": {},
      "outputs": [],
      "source": [
        "framelen=read_pcap(\"nitroba.pcap\", [\"frame.len\"], timeseries=True)\n",
        "framelen"
      ]
    },
    {
      "cell_type": "markdown",
      "metadata": {},
      "source": [
        "Then we re-sample the timeseries into buckets of 1 second, summing over the lengths of all frames that were captured in that second:"
      ]
    },
    {
      "cell_type": "code",
      "metadata": {},
      "outputs": [],
      "source": [
        "bytes_per_second=framelen.resample(\"S\", how=\"sum\")"
      ]
    },
    {
      "cell_type": "markdown",
      "metadata": {},
      "source": [
        "Here are the first 5 rows. We get NaN for those timestamps where no frames were captured:"
      ]
    },
    {
      "cell_type": "code",
      "metadata": {},
      "outputs": [],
      "source": [
        "bytes_per_second.head()"
      ]
    },
    {
      "cell_type": "code",
      "metadata": {},
      "outputs": [],
      "source": [
        "bytes_per_second.plot()"
      ]
    },
    {
      "cell_type": "markdown",
      "metadata": {},
      "source": [
        "## TCP Time-Sequence Graph"
      ]
    },
    {
      "cell_type": "markdown",
      "metadata": {},
      "source": [
        "Let's try to replicate the TCP Time-Sequence Graph that is known from Wireshark (Statistics > TCP Stream Analysis > Time-Sequence Graph (Stevens)."
      ]
    },
    {
      "cell_type": "code",
      "metadata": {},
      "outputs": [],
      "source": [
        "fields=[\"tcp.stream\", \"ip.src\", \"ip.dst\", \"tcp.seq\", \"tcp.ack\", \"tcp.window_size\", \"tcp.len\"]\n",
        "ts=read_pcap(\"nitroba.pcap\", fields, timeseries=True, strict=True)\n",
        "ts"
      ]
    },
    {
      "cell_type": "markdown",
      "metadata": {},
      "source": [
        "Now we have to select a TCP stream to analyse. As an example, we just pick stream number 10:"
      ]
    },
    {
      "cell_type": "code",
      "metadata": {},
      "outputs": [],
      "source": [
        "stream=ts[ts[\"tcp.stream\"] == 10]"
      ]
    },
    {
      "cell_type": "code",
      "metadata": {},
      "outputs": [],
      "source": [
        "stream"
      ]
    },
    {
      "cell_type": "markdown",
      "metadata": {},
      "source": [
        "Pandas only print the overview because the table is to wide. So we force a display:"
      ]
    },
    {
      "cell_type": "code",
      "metadata": {},
      "outputs": [],
      "source": [
        "print stream.to_string()"
      ]
    },
    {
      "cell_type": "markdown",
      "metadata": {},
      "source": [
        "Add a column that shows who sent the packet (client or server). "
      ]
    },
    {
      "cell_type": "markdown",
      "metadata": {},
      "source": [
        "The fancy lambda expression is a function that distinguishes between the client and the server side of the stream by comparing the source IP address with the source IP address of the first packet in the stream (for TCP steams that should have been sent by the client)."
      ]
    },
    {
      "cell_type": "code",
      "metadata": {},
      "outputs": [],
      "source": [
        "stream[\"type\"] = stream.apply(lambda x: \"client\" if x[\"ip.src\"] == stream.irow(0)[\"ip.src\"] else \"server\", axis=1)"
      ]
    },
    {
      "cell_type": "code",
      "metadata": {},
      "outputs": [],
      "source": [
        "print stream.to_string()"
      ]
    },
    {
      "cell_type": "code",
      "metadata": {},
      "outputs": [],
      "source": [
        "client_stream=stream[stream.type == \"client\"]"
      ]
    },
    {
      "cell_type": "code",
      "metadata": {},
      "outputs": [],
      "source": [
        "client_stream[\"tcp.seq\"].plot(style=\"r-o\")"
      ]
    },
    {
      "cell_type": "markdown",
      "metadata": {},
      "source": [
        "Notice that the x-axis shows the real timestamps."
      ]
    },
    {
      "cell_type": "markdown",
      "metadata": {},
      "source": [
        "For comparison, change the x-axis to be the packet number in the stream:"
      ]
    },
    {
      "cell_type": "code",
      "metadata": {},
      "outputs": [],
      "source": [
        "client_stream.index = arange(len(client_stream))\n",
        "client_stream[\"tcp.seq\"].plot(style=\"r-o\")"
      ]
    },
    {
      "cell_type": "markdown",
      "metadata": {},
      "source": [
        "Looks different of course."
      ]
    },
    {
      "cell_type": "markdown",
      "metadata": {},
      "source": [
        "## Bytes per stream"
      ]
    },
    {
      "cell_type": "code",
      "metadata": {},
      "outputs": [],
      "source": [
        "per_stream=ts.groupby(\"tcp.stream\")\n",
        "per_stream.head()"
      ]
    },
    {
      "cell_type": "code",
      "metadata": {},
      "outputs": [],
      "source": [
        "bytes_per_stream = per_stream[\"tcp.len\"].sum()\n",
        "bytes_per_stream.head()"
      ]
    },
    {
      "cell_type": "code",
      "metadata": {},
      "outputs": [],
      "source": [
        "bytes_per_stream.plot()"
      ]
    },
    {
      "cell_type": "code",
      "metadata": {},
      "outputs": [],
      "source": [
        "bytes_per_stream.max()"
      ]
    },
    {
      "cell_type": "code",
      "metadata": {},
      "outputs": [],
      "source": [
        "biggest_stream=bytes_per_stream.idxmax()\n",
        "biggest_stream"
      ]
    },
    {
      "cell_type": "code",
      "metadata": {},
      "outputs": [],
      "source": [
        "bytes_per_stream.ix[biggest_stream]"
      ]
    },
    {
      "cell_type": "markdown",
      "metadata": {},
      "source": [
        "## Ethernet Padding"
      ]
    },
    {
      "cell_type": "markdown",
      "metadata": {},
      "source": [
        "Let's have a look at the padding of the Ethernet frames. Some cards have been leaking data in the past. For more details, see\n",
        "http://www.securiteam.com/securitynews/5BP01208UO.html"
      ]
    },
    {
      "cell_type": "code",
      "metadata": {},
      "outputs": [],
      "source": [
        "trailer_df = read_pcap(\"nitroba.pcap\", [\"eth.src\", \"eth.trailer\"], timeseries=True)\n",
        "trailer_df"
      ]
    },
    {
      "cell_type": "code",
      "metadata": {},
      "outputs": [],
      "source": [
        "trailer=trailer_df[\"eth.trailer\"]\n",
        "trailer"
      ]
    },
    {
      "cell_type": "markdown",
      "metadata": {},
      "source": [
        "Ok. Most frames do not seem to have padding, but some have. Let's count per value to get an overview:"
      ]
    },
    {
      "cell_type": "code",
      "metadata": {},
      "outputs": [],
      "source": [
        "trailer.value_counts()"
      ]
    },
    {
      "cell_type": "markdown",
      "metadata": {},
      "source": [
        "Mostly zeros, but some data. Let's decode the hex strings: "
      ]
    },
    {
      "cell_type": "code",
      "metadata": {},
      "outputs": [],
      "source": [
        "import binascii\n",
        "\n",
        "def unhex(s, sep=\":\"):\n",
        "    return binascii.unhexlify(\"\".join(s.split(sep)))"
      ]
    },
    {
      "cell_type": "code",
      "metadata": {},
      "outputs": [],
      "source": [
        "s=unhex(\"3b:02:a7:19:aa:aa:03:00:80:c2:00:07:00:00:00:02:3b:02\")\n",
        "s"
      ]
    },
    {
      "cell_type": "code",
      "metadata": {},
      "outputs": [],
      "source": [
        "padding = trailer_df.dropna()"
      ]
    },
    {
      "cell_type": "code",
      "metadata": {},
      "outputs": [],
      "source": [
        "padding[\"unhex\"]=padding[\"eth.trailer\"].map(unhex)"
      ]
    },
    {
      "cell_type": "code",
      "metadata": {},
      "outputs": [],
      "source": [
        "def printable(s):\n",
        "    chars = []\n",
        "    for c in s:\n",
        "        if c.isalnum():\n",
        "            chars.append(c)\n",
        "        else:\n",
        "            chars.append(\".\")\n",
        "    return \"\".join(chars)\n",
        "           "
      ]
    },
    {
      "cell_type": "code",
      "metadata": {},
      "outputs": [],
      "source": [
        "printable(\"\\x95asd\\x33\")"
      ]
    },
    {
      "cell_type": "code",
      "metadata": {},
      "outputs": [],
      "source": [
        "padding[\"printable\"]=padding[\"unhex\"].map(printable)"
      ]
    },
    {
      "cell_type": "code",
      "metadata": {},
      "outputs": [],
      "source": [
        "padding[\"printable\"].value_counts()"
      ]
    },
    {
      "cell_type": "code",
      "metadata": {},
      "outputs": [],
      "source": [
        "def ratio_printable(s):\n",
        "    printable = sum(1.0 for c in s if c.isalnum())\n",
        "    return printable / len(s)         "
      ]
    },
    {
      "cell_type": "code",
      "metadata": {},
      "outputs": [],
      "source": [
        "ratio_printable(\"a\\x93sdfs\")"
      ]
    },
    {
      "cell_type": "code",
      "metadata": {},
      "outputs": [],
      "source": [
        "padding[\"ratio_printable\"] = padding[\"unhex\"].map(ratio_printable)"
      ]
    },
    {
      "cell_type": "code",
      "metadata": {},
      "outputs": [],
      "source": [
        "padding[padding[\"ratio_printable\"] > 0.5]"
      ]
    },
    {
      "cell_type": "code",
      "metadata": {},
      "outputs": [],
      "source": [
        "_.printable.value_counts()"
      ]
    },
    {
      "cell_type": "markdown",
      "metadata": {},
      "source": [
        "Now find out which Ethernet cards sent those packets with more than 50% ASCII data in their padding:"
      ]
    },
    {
      "cell_type": "code",
      "metadata": {},
      "outputs": [],
      "source": [
        "padding[padding[\"ratio_printable\"] > 0.5]['eth.src'].drop_duplicates()"
      ]
    },
    {
      "cell_type": "code",
      "metadata": {},
      "outputs": [],
      "source": [
        "HTML('<iframe src=http://www.coffer.com/mac_find/?string=00%3A1d%3Ad9%3A2e%3A4f%3A61 width=600 height=300></iframe>')"
      ]
    },
    {
      "cell_type": "markdown",
      "metadata": {},
      "source": [
        "Thats 'Hon Hai Precision' (and \"Netopia Inc\" for the other MAC address)."
      ]
    }
  ],
  "metadata": {
    "kernelspec": {
      "display_name": "Python 3",
      "language": "python",
      "name": "python3"
    },
    "language_info": {
      "codemirror_mode": {
        "name": "ipython",
        "version": 3
      },
      "file_extension": ".py",
      "mimetype": "text/x-python",
      "name": "python",
      "nbconvert_exporter": "python",
      "pygments_lexer": "ipython3",
      "version": "3.6.0"
    }
  },
  "nbformat": 4,
  "nbformat_minor": 1
}